{
 "cells": [
  {
   "cell_type": "code",
   "execution_count": 12,
   "id": "09bfb9ff-4eeb-4ab8-8d4a-638bb37617af",
   "metadata": {},
   "outputs": [
    {
     "name": "stdout",
     "output_type": "stream",
     "text": [
      "Initial Board: [3, 1, 2, 0]\n",
      "Initial Cost: 2\n",
      "Neighbor: [1, 3, 2, 0], swapped columns: (0, 1), Cost: 1\n",
      "Neighbor: [2, 1, 3, 0], swapped columns: (0, 2), Cost: 1\n",
      "Neighbor: [0, 1, 2, 3], swapped columns: (0, 3), Cost: 6\n",
      "Neighbor: [3, 2, 1, 0], swapped columns: (1, 2), Cost: 6\n",
      "Neighbor: [3, 0, 2, 1], swapped columns: (1, 3), Cost: 1\n",
      "Neighbor: [3, 1, 0, 2], swapped columns: (2, 3), Cost: 1\n",
      "Move to neighbor: [1, 3, 2, 0] by swapping columns (0, 1), New Cost: 1\n",
      "Neighbor: [3, 1, 2, 0], swapped columns: (0, 1), Cost: 2\n",
      "Neighbor: [2, 3, 1, 0], swapped columns: (0, 2), Cost: 2\n",
      "Neighbor: [0, 3, 2, 1], swapped columns: (0, 3), Cost: 4\n",
      "Neighbor: [1, 2, 3, 0], swapped columns: (1, 2), Cost: 4\n",
      "Neighbor: [1, 0, 2, 3], swapped columns: (1, 3), Cost: 2\n",
      "Neighbor: [1, 3, 0, 2], swapped columns: (2, 3), Cost: 0\n",
      "Move to neighbor: [1, 3, 0, 2] by swapping columns (2, 3), New Cost: 0\n",
      "Goal reached! Solution found: [1, 3, 0, 2]\n"
     ]
    }
   ],
   "source": [
    "def calculate_cost(board):\n",
    "    conflicts = 0\n",
    "    n = len(board)\n",
    "    for i in range(n):\n",
    "        for j in range(i + 1, n):\n",
    "            if board[i] == board[j] or abs(board[i] - board[j]) == j - i:\n",
    "                conflicts += 1\n",
    "    return conflicts\n",
    "\n",
    "def generate_neighbors_by_swapping(board):\n",
    "    neighbors = []\n",
    "    n = len(board)\n",
    "    # Generate neighbors by swapping queens in columns i and j (i < j)\n",
    "    for i in range(n - 1):\n",
    "        for j in range(i + 1, n):\n",
    "            new_board = board[:]\n",
    "            # Swap positions of queens in columns i and j\n",
    "            new_board[i], new_board[j] = new_board[j], new_board[i]\n",
    "            neighbors.append((new_board, (i, j)))  # Store neighbor and swapped columns for tie-break\n",
    "    return neighbors\n",
    "\n",
    "def hill_climbing_swap(n, initial_board):\n",
    "    current_board = initial_board\n",
    "    current_cost = calculate_cost(current_board)\n",
    "\n",
    "    print(\"Initial Board:\", current_board)\n",
    "    print(\"Initial Cost:\", current_cost)\n",
    "\n",
    "    while current_cost > 0:\n",
    "        neighbors = generate_neighbors_by_swapping(current_board)\n",
    "       \n",
    "        # Find best neighbor(s) with minimum cost\n",
    "        best_cost = current_cost\n",
    "        best_neighbors = []\n",
    "        for neighbor, swapped_pair in neighbors:\n",
    "            cost = calculate_cost(neighbor)\n",
    "            print(f\"Neighbor: {neighbor}, swapped columns: {swapped_pair}, Cost: {cost}\")\n",
    "            if cost < best_cost:\n",
    "                best_cost = cost\n",
    "                best_neighbors = [(neighbor, swapped_pair)]\n",
    "            elif cost == best_cost:\n",
    "                best_neighbors.append((neighbor, swapped_pair))\n",
    "       \n",
    "        if best_cost >= current_cost:\n",
    "            print(\"No better neighbor found. Stuck at local maximum.\")\n",
    "            break\n",
    "       \n",
    "        # Tie-breaking: choose neighbor with smallest first swapped column\n",
    "        best_neighbors.sort(key=lambda x: x[1][0])  # Sort by first swapped column (smallest i)\n",
    "        current_board, swapped_pair = best_neighbors[0]\n",
    "        current_cost = best_cost\n",
    "        print(f\"Move to neighbor: {current_board} by swapping columns {swapped_pair}, New Cost: {current_cost}\")\n",
    "\n",
    "    if current_cost == 0:\n",
    "        print(\"Goal reached! Solution found:\", current_board)\n",
    "    else:\n",
    "        print(\"No solution found.\")\n",
    "\n",
    "# Initial state as per your input\n",
    "initial_state = [3,1, 2, 0]\n",
    "hill_climbing_swap(4, initial_state)"
   ]
  },
  {
   "cell_type": "code",
   "execution_count": null,
   "id": "0933edd9-bcdd-43e6-a99e-8f3887fe6d4e",
   "metadata": {},
   "outputs": [],
   "source": []
  },
  {
   "cell_type": "code",
   "execution_count": null,
   "id": "7329b7b3-3d00-4656-9265-5af140a3e7e6",
   "metadata": {},
   "outputs": [],
   "source": []
  }
 ],
 "metadata": {
  "kernelspec": {
   "display_name": "Python 3 (ipykernel)",
   "language": "python",
   "name": "python3"
  },
  "language_info": {
   "codemirror_mode": {
    "name": "ipython",
    "version": 3
   },
   "file_extension": ".py",
   "mimetype": "text/x-python",
   "name": "python",
   "nbconvert_exporter": "python",
   "pygments_lexer": "ipython3",
   "version": "3.12.7"
  }
 },
 "nbformat": 4,
 "nbformat_minor": 5
}
